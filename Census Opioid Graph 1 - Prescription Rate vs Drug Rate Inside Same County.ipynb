{
 "cells": [
  {
   "cell_type": "markdown",
   "metadata": {},
   "source": [
    "#  County-Level Examination of Opioid Mortality in the United States"
   ]
  },
  {
   "cell_type": "markdown",
   "metadata": {},
   "source": [
    "This code pulls county-level data encompassing median household income from USDA records, opioid prescription rates from the CDC, and opioid mortality rates using the CDC's wonder tool. This data has been collected and placed locally for analysis, and graphical outputs of trends are displayed below "
   ]
  },
  {
   "cell_type": "code",
   "execution_count": 23,
   "metadata": {},
   "outputs": [
    {
     "data": {
      "image/png": "[encoded data removed]",
      "text/plain": [
       "<matplotlib.figure.Figure at 0xb7d1f98>"
      ]
     },
     "metadata": {},
     "output_type": "display_data"
    },
    {
     "name": "stdout",
     "output_type": "stream",
     "text": [
      "r-squared is: 0.504494041438\n"
     ]
    }
   ],
   "source": [
    "#Pull data from:\n",
    "#https://wonder.cdc.gov/controller/datarequest/D76;jsessionid=E1C9E5C61A4F4F9794D48F66D9B3C34F\n",
    "#Used reference codes from:\n",
    "#https://www.cdc.gov/drugoverdose/data/statedeaths.html\n",
    "\n",
    "#Opioid prescription rates found from https://www.cdc.gov/drugoverdose/maps/rxrate-maps.html\n",
    "\n",
    "\n",
    "#Import relevant libraries\n",
    "import os\n",
    "import csv\n",
    "import matplotlib.pyplot as plt\n",
    "import numpy as np\n",
    "import scipy.stats\n",
    "\n",
    "\n",
    "#Laptop Directory\n",
    "os.chdir(r\"C:\\Users\\Paul\\Desktop\\Data_Incubator April 2018\\Project\")\n",
    "\n",
    "#Desktop Directory\n",
    "#os.chdir(r\"C:\\Users\\Paul\\Desktop\\Insight Health Data\\Working_Directory\")\n",
    "\n",
    "#Grab median salary data\n",
    "incomes={}\n",
    "all_incomes_list = []\n",
    "\n",
    "#Use county level census data drawn from the following source (4/25/18):\n",
    "#'Unemployment and median household income for the U.S., States, and counties, 2007-16', last updated 1/25/18\n",
    "#https://www.ers.usda.gov/data-products/county-level-data-sets/download-data/\n",
    "\n",
    "#Open census data to grab median incomes for each county in the USA\n",
    "with open('Unemployment.csv') as file:\n",
    "    reader = csv.reader(file)\n",
    "    \n",
    "    #Skip headers\n",
    "    for i in range(8):\n",
    "        next(reader)\n",
    "        \n",
    "    #Read in salary data (col 46 w/ Python indexing) and store it in a dictionary using the county code as the key\n",
    "    for row in reader:\n",
    "        if(len(row[46].strip())>0):\n",
    "            identifier = row[0].strip()\n",
    "        #Check for entries where income information is not available (seems to be an issue with US territories) and disregard them\n",
    "        if(len(row[46].strip())>0):\n",
    "            amount = int(row[46].replace(',',''))\n",
    "            incomes.setdefault(identifier,amount)\n",
    "            \n",
    "\n",
    "mean_years = []\n",
    "#Data on number of opioid prescriptions by county\n",
    "opioid_rx = ['2007OpioidPrescriptions.csv','2008OpioidPrescriptions.csv','2009OpioidPrescriptions.csv','2010OpioidPrescriptions.csv','2011OpioidPrescriptions.csv','2012OpioidPrescriptions.csv','2013OpioidPrescriptions.csv','2014OpioidPrescriptions.csv','2015OpioidPrescriptions.csv','2016OpioidPrescriptions.csv']\n",
    "\n",
    "#Data for opioid deaths (IDC-10 codes X40-X44, X60-X64, X85, and Y10-Y14, taken from CDC classifiers for opioid-related deaths)\n",
    "input_years = ['2007Data.csv','2008Data.csv','2009Data.csv','2010Data.csv','2011Data.csv','2012Data.csv','2013Data.csv','2014Data.csv','2015Data.csv','2016Data.csv']\n",
    "\n",
    "#f, axes = plt.subplots(2,5)\n",
    "#ax_i = 0\n",
    "#ax_j = 0\n",
    "\n",
    "#Read in each year of data one by one\n",
    "for index in range(len(input_years)):\n",
    "    current_year = input_years[index][:4]\n",
    "    county_population = {}\n",
    "    opioid_death = {}\n",
    "    value_catalog = []\n",
    "    opioid_prescriptions = {}\n",
    "    with open(input_years[index]) as file:\n",
    "        reader = csv.reader(file)\n",
    "        next(reader)\n",
    "        for row in reader:\n",
    "            if(len(row[1].strip())>0):\n",
    "                put_rate = row[6].strip()\n",
    "                if(str.isdigit(put_rate.replace('.',''))):\n",
    "                    code = row[2].strip()\n",
    "                    if(len(code)==4):\n",
    "                        code = '0'+code\n",
    "                    opioid_death[code]=float(put_rate)\n",
    "                    value_catalog.append(float(put_rate))\n",
    "                    county_population[code]=int(row[4].strip())\n",
    "\n",
    "    with open(opioid_rx[index]) as file:\n",
    "        reader = csv.reader(file)\n",
    "        #Skip header\n",
    "        next(reader)\n",
    "        for row in (reader):\n",
    "            reported_val = row[3].strip()\n",
    "            if(str.isdigit(reported_val.replace('.',''))):\n",
    "                rate_per_100 = float(row[3].strip())\n",
    "                code = row[2].strip()\n",
    "                if(len(code)==4):\n",
    "                    code = '0'+code\n",
    "                opioid_prescriptions[code]=rate_per_100/100\n",
    "\n",
    "    x_axis_prescrip = []\n",
    "    y_axis_death = []\n",
    "    for item in opioid_death:\n",
    "        if item in opioid_prescriptions:\n",
    "            x_axis_prescrip.append(opioid_prescriptions[item])\n",
    "            y_axis_death.append(opioid_death[item])\n",
    "    if(current_year=='2010'):\n",
    "        plt.title('Opioid Death Rate per 100,000 vs Opioid Prescription Rate per Person for Year ' + str(current_year))\n",
    "        plt.xlabel('Prescription Rate per Person')\n",
    "        plt.ylabel('Opioid Death Rate per 100,000')\n",
    "        a = np.array(x_axis_prescrip)\n",
    "        b = np.array(y_axis_death)\n",
    "        plt.scatter(a,b)\n",
    "        plt.show()\n",
    "        slope, intercept, r_value, p_value, std_err = scipy.stats.linregress(a,b)\n",
    "\n",
    "        print('r-squared is: ' + str(r_value*r_value))"
   ]
  },
  {
   "cell_type": "code",
   "execution_count": null,
   "metadata": {
    "collapsed": true
   },
   "outputs": [],
   "source": []
  }
 ],
 "metadata": {
  "kernelspec": {
   "display_name": "Python 3",
   "language": "python",
   "name": "python3"
  },
  "language_info": {
   "codemirror_mode": {
    "name": "ipython",
    "version": 3
   },
   "file_extension": ".py",
   "mimetype": "text/x-python",
   "name": "python",
   "nbconvert_exporter": "python",
   "pygments_lexer": "ipython3",
   "version": "3.6.3"
  }
 },
 "nbformat": 4,
 "nbformat_minor": 2
}
